{
  "nbformat": 4,
  "nbformat_minor": 0,
  "metadata": {
    "colab": {
      "name": "Display_LunarLander_v2_with_various_Hyperparameters.ipynb",
      "provenance": [],
      "collapsed_sections": [],
      "toc_visible": true
    },
    "kernelspec": {
      "name": "python3",
      "display_name": "Python 3"
    },
    "accelerator": "GPU"
  },
  "cells": [
    {
      "cell_type": "code",
      "metadata": {
        "id": "WmZQWEhyjCbc"
      },
      "source": [
        "import argparse\n",
        "import pickle\n",
        "from collections import namedtuple\n",
        "from itertools import count\n",
        "from random import randrange, uniform\n",
        "import os, time, json\n",
        "import numpy as np\n",
        "import matplotlib.pyplot as plt\n",
        "plt.rcParams.update({'font.size': 14})\n",
        "import gym\n",
        "import torch\n",
        "import torch.nn as nn\n",
        "import torch.optim as optim\n",
        "import random\n",
        "from timeit import default_timer as timer "
      ],
      "execution_count": 1,
      "outputs": []
    },
    {
      "cell_type": "code",
      "metadata": {
        "id": "epUtnQ835j_o",
        "colab": {
          "base_uri": "https://localhost:8080/"
        },
        "outputId": "f4160cbd-e1c3-4105-e5f6-17b8691045ca"
      },
      "source": [
        "!pip install gym pyvirtualdisplay > /dev/null 2>&1\n",
        "!apt-get install -y xvfb python-opengl ffmpeg > /dev/null 2>&1\n",
        "!apt-get update > /dev/null 2>&1\n",
        "!apt-get install cmake > /dev/null 2>&1\n",
        "!pip install --upgrade setuptools 2>&1\n",
        "!pip install ez_setup > /dev/null 2>&1\n",
        "!pip install gym[atari] > /dev/null 2>&1\n",
        "\n",
        "# install required system dependencies\n",
        "!apt-get install -y xvfb x11-utils\n",
        "# install required python dependencies\n",
        "!pip install gym[box2d]==0.17.* \\\n",
        "            pyvirtualdisplay==0.2.* \\\n",
        "            PyOpenGL==3.1.* \\\n",
        "            PyOpenGL-accelerate==3.1.*\n",
        "\n",
        "\n",
        "from gym import logger as gymlogger\n",
        "from gym.wrappers import Monitor\n",
        "gymlogger.set_level(40) #error only\n",
        "import tensorflow as tf\n",
        "import numpy as np\n",
        "import random\n",
        "import matplotlib\n",
        "import matplotlib.pyplot as plt\n",
        "%matplotlib inline\n",
        "import math\n",
        "import glob\n",
        "import io\n",
        "import base64\n",
        "from IPython.display import HTML\n",
        "\n",
        "from IPython import display as ipythondisplay"
      ],
      "execution_count": 2,
      "outputs": [
        {
          "output_type": "stream",
          "text": [
            "Requirement already up-to-date: setuptools in /usr/local/lib/python3.6/dist-packages (51.0.0)\n",
            "Reading package lists... Done\n",
            "Building dependency tree       \n",
            "Reading state information... Done\n",
            "x11-utils is already the newest version (7.7+3build1).\n",
            "xvfb is already the newest version (2:1.19.6-1ubuntu4.8).\n",
            "0 upgraded, 0 newly installed, 0 to remove and 36 not upgraded.\n",
            "Requirement already satisfied: gym[box2d]==0.17.* in /usr/local/lib/python3.6/dist-packages (0.17.3)\n",
            "Requirement already satisfied: pyvirtualdisplay==0.2.* in /usr/local/lib/python3.6/dist-packages (0.2.5)\n",
            "Requirement already satisfied: PyOpenGL==3.1.* in /usr/local/lib/python3.6/dist-packages (3.1.5)\n",
            "Requirement already satisfied: PyOpenGL-accelerate==3.1.* in /usr/local/lib/python3.6/dist-packages (3.1.5)\n",
            "Requirement already satisfied: cloudpickle<1.7.0,>=1.2.0 in /usr/local/lib/python3.6/dist-packages (from gym[box2d]==0.17.*) (1.3.0)\n",
            "Requirement already satisfied: scipy in /usr/local/lib/python3.6/dist-packages (from gym[box2d]==0.17.*) (1.4.1)\n",
            "Requirement already satisfied: pyglet<=1.5.0,>=1.4.0 in /usr/local/lib/python3.6/dist-packages (from gym[box2d]==0.17.*) (1.5.0)\n",
            "Requirement already satisfied: numpy>=1.10.4 in /usr/local/lib/python3.6/dist-packages (from gym[box2d]==0.17.*) (1.18.5)\n",
            "Requirement already satisfied: box2d-py~=2.3.5; extra == \"box2d\" in /usr/local/lib/python3.6/dist-packages (from gym[box2d]==0.17.*) (2.3.8)\n",
            "Requirement already satisfied: EasyProcess in /usr/local/lib/python3.6/dist-packages (from pyvirtualdisplay==0.2.*) (0.3)\n",
            "Requirement already satisfied: future in /usr/local/lib/python3.6/dist-packages (from pyglet<=1.5.0,>=1.4.0->gym[box2d]==0.17.*) (0.16.0)\n"
          ],
          "name": "stdout"
        }
      ]
    },
    {
      "cell_type": "code",
      "metadata": {
        "colab": {
          "base_uri": "https://localhost:8080/"
        },
        "id": "x5UBjx4jjWoX",
        "outputId": "502b9c4f-a75d-40d7-a711-7dac117eaba6"
      },
      "source": [
        "!pip install tensorboardX"
      ],
      "execution_count": 3,
      "outputs": [
        {
          "output_type": "stream",
          "text": [
            "Requirement already satisfied: tensorboardX in /usr/local/lib/python3.6/dist-packages (2.1)\n",
            "Requirement already satisfied: numpy in /usr/local/lib/python3.6/dist-packages (from tensorboardX) (1.18.5)\n",
            "Requirement already satisfied: six in /usr/local/lib/python3.6/dist-packages (from tensorboardX) (1.15.0)\n",
            "Requirement already satisfied: protobuf>=3.8.0 in /usr/local/lib/python3.6/dist-packages (from tensorboardX) (3.12.4)\n",
            "Requirement already satisfied: setuptools in /usr/local/lib/python3.6/dist-packages (from protobuf>=3.8.0->tensorboardX) (51.0.0)\n"
          ],
          "name": "stdout"
        }
      ]
    },
    {
      "cell_type": "code",
      "metadata": {
        "id": "uAiCjy3DjOOe"
      },
      "source": [
        "from torch.utils.data.sampler import BatchSampler, SubsetRandomSampler\n",
        "from tensorboardX import SummaryWriter"
      ],
      "execution_count": 4,
      "outputs": []
    },
    {
      "cell_type": "code",
      "metadata": {
        "id": "01_0esb5jRN3"
      },
      "source": [
        "class Net(nn.Module):\n",
        "    def __init__(self, num_state, num_action):\n",
        "        super(Net, self).__init__()\n",
        "        self.fc1 = nn.Linear(num_state, 100)\n",
        "        self.activation = nn.LeakyReLU() \n",
        "        self.fc2 = nn.Linear(100, num_action)\n",
        "\n",
        "    def forward(self, x):\n",
        "        x = self.activation(self.fc1(x))\n",
        "        action_prob = self.fc2(x)\n",
        "        return action_prob\n"
      ],
      "execution_count": 5,
      "outputs": []
    },
    {
      "cell_type": "code",
      "metadata": {
        "id": "Z5jwHNAUjcud"
      },
      "source": [
        "class DQN():\n",
        "    def __init__(self, num_state, num_action, params):\n",
        "        super(DQN, self).__init__()\n",
        "        self.device = torch.device('cuda' if torch.cuda.is_available() else 'cpu')\n",
        "        # data collection aids\n",
        "        self.name = 'agents/' + params.env_name + '_' + params.model_name\n",
        "        self.losses = []\n",
        "        self.my_loss = 0\n",
        "        self.params = params \n",
        "        if self.params.mode == 'test':\n",
        "            self.load(self.name)\n",
        "        else:\n",
        "            self.target_net, self.act_net = Net(num_state, num_action), Net(num_state, num_action)\n",
        "            self.target_net, self.act_net = self.target_net.to(self.device), self.act_net.to(self.device)\n",
        "            self.unpack_params()\n",
        "            self.loss_func = nn.MSELoss()\n",
        "            #self.writer = SummaryWriter('./DQN/logs')\n",
        "            self.num_actions = num_action \n",
        "            self.num_states = num_state\n",
        "            self.memory_count = 0 \n",
        "            self.update_count = 0\n",
        "\n",
        "    def unpack_params(self):\n",
        "        self.epsilon = self.params.exploration_noise\n",
        "        self.optimizer = get_optimizer(self.params.optimizer, self.act_net, self.params.learning_rate)\n",
        "        self.capacity = self.params.capacity\n",
        "        self.memory = [None]*self.capacity\n",
        "        self.update_point = self.params.update_count \n",
        "        self.gamma = self.params.gamma\n",
        "        self.batch_size = self.params.batch_size\n",
        "        self.game = self.params.env_name\n",
        "\n",
        "    def select_action(self,state):\n",
        "        state = torch.tensor(state, dtype=torch.float).unsqueeze(0)\n",
        "        state = state.to(self.device)\n",
        "        value = self.act_net(state)\n",
        "        action_max_value, index = torch.max(value, 1)\n",
        "        action = index.item()\n",
        "        if np.random.uniform() >= 1 - self.epsilon: \n",
        "            action = np.random.choice(range(self.num_actions), 1).item()\n",
        "        return action\n",
        "\n",
        "    def store_transition(self,transition):\n",
        "        index = self.memory_count % self.capacity\n",
        "        self.memory[index] = transition\n",
        "        self.memory_count += 1\n",
        "    \n",
        "    def update_target_network_weights(self):\n",
        "        if self.update_count == self.update_point:\n",
        "            self.update_count = 0 \n",
        "            self.target_net.load_state_dict(self.act_net.state_dict())\n",
        "\n",
        "    def update(self):\n",
        "        if self.memory_count >= self.capacity:\n",
        "\n",
        "            # convert inputs to torch tensors. \n",
        "            state = torch.Tensor([t.old_state for t in self.memory]).float()\n",
        "            action = torch.LongTensor([t.action for t in self.memory]).view(-1,1).long()\n",
        "            reward = torch.Tensor([t.reward for t in self.memory]).float()\n",
        "            next_state = torch.Tensor([t.new_state for t in self.memory]).float()\n",
        "\n",
        "            # move to devices\n",
        "            state = state.to(self.device)\n",
        "            next_state = next_state.to(self.device)\n",
        "            action = action.to(self.device)\n",
        "            reward = reward.to(self.device)\n",
        "        \n",
        "            # normalize rewards. \n",
        "            reward = (reward - reward.mean()) / (reward.std() + 1e-7)\n",
        "\n",
        "            # update Q value\n",
        "            with torch.no_grad():\n",
        "                target_v = reward + self.gamma * self.target_net(next_state).max(1)[0]\n",
        "            \n",
        "            batch_loss = 0\n",
        "            # sample from replay buffer, update actor network. \n",
        "            for index in BatchSampler(SubsetRandomSampler(range(len(self.memory))), batch_size=self.batch_size, drop_last=False):\n",
        "                v = (self.act_net(state).gather(1, action))[index]\n",
        "                loss = self.loss_func(target_v[index].unsqueeze(1), (self.act_net(state).gather(1, action))[index])\n",
        "                self.optimizer.zero_grad()\n",
        "                loss.backward()\n",
        "                self.optimizer.step()\n",
        "                #self.writer.add_scalar('loss/value_loss', loss, self.update_count)\n",
        "                batch_loss += loss.item()\n",
        "                self.my_loss = batch_loss/self.batch_size\n",
        "\n",
        "            self.losses.append(batch_loss/self.batch_size)\n",
        "            \n",
        "        # update target Q network when sufficient iterations have passed. \n",
        "        self.update_count +=1\n",
        "        self.update_target_network_weights() \n",
        "        if self.update_count == self.update_point:\n",
        "            self.target_net.load_state_dict(self.act_net.state_dict())\n",
        "    \n",
        "    def save(self, ep_number):\n",
        "        if not os.path.isdir('agents'):\n",
        "            os.mkdir('agents/')\n",
        "        act_model_path = 'agents/' + self.params.model_name + '_' + self.game + '_actor_episode' + str(ep_number) + '.pth'\n",
        "        target_model_path = 'agents/' + self.params.model_name + '_' + self.game + '_target_episode' + str(ep_number)+ '.pth'\n",
        "        torch.save(self.act_net.state_dict(), act_model_path)\n",
        "        torch.save(self.target_net.state_dict(), target_model_path)\n",
        "\n",
        "        save_dic = vars(self.params)\n",
        "\n",
        "        save_dic['num_actions'] = self.num_actions \n",
        "        save_dic['num_states'] = self.num_states \n",
        "        save_dic['memory_count'] = self.memory_count \n",
        "        save_dic['update_count'] = self.update_count\n",
        "        save_dic['losses'] = self.losses\n",
        "\n",
        "        filename = self.name + '.json'\n",
        "        with open(filename, 'w') as fp:\n",
        "            json.dump(save_dic, fp, indent=4)\n",
        "\n",
        "    def load(self, name):\n",
        "        # name = 'agents/' + game + '_' + model_name\n",
        "        filename = name + '.json'\n",
        "        print('loading from : ', filename) \n",
        "        try:\n",
        "            with open(filename, 'r') as fp:\n",
        "                data = json.load(fp)\n",
        "        except FileNotFoundError:\n",
        "            raise FileNotFoundError(\"Specified agent does not exist. Aborting.\")\n",
        "        \n",
        "        self.params = argparse.Namespace(**data)\n",
        "        self.num_actions = data['num_actions']\n",
        "        self.num_states = data['num_states']\n",
        "        ep_number = self.params.num_episodes - 1\n",
        "        act_model_path = 'agents/' + self.params.model_name + '_' + self.params.env_name + '_actor_episode' + str(ep_number) + '.pth'\n",
        "        target_model_path = 'agents/' + self.params.model_name + '_' + self.params.env_name + '_target_episode' + str(ep_number)+ '.pth'\n",
        "\n",
        "        # load the models.\n",
        "        self.act_net, self.target_net = Net(self.num_states, self.num_actions), Net(self.num_states, self.num_actions)\n",
        "        self.act_net.load_state_dict(torch.load(act_model_path))\n",
        "        self.target_net.load_state_dict(torch.load(target_model_path))\n",
        "        \n",
        "        # load other parameters.\n",
        "        self.unpack_params() \n",
        "        self.memory_count = data['memory_count']\n",
        "        self.update_count = data['update_count']\n",
        "        self.losses = data['losses']\n"
      ],
      "execution_count": 6,
      "outputs": []
    },
    {
      "cell_type": "code",
      "metadata": {
        "id": "wN6gP2aDjjHn"
      },
      "source": [
        "class Transition(object):\n",
        "    def __init__(self, old_state, action, new_state, reward: float, terminate_: bool):\n",
        "        self.old_state = old_state\n",
        "        self.action = action\n",
        "        self.new_state = new_state\n",
        "        self.reward = reward\n",
        "        self.terminate = terminate_\n",
        "\n",
        "    @property\n",
        "    def terminate(self):\n",
        "        return self.__terminate\n",
        "\n",
        "    @terminate.setter\n",
        "    def terminate(self, terminate_):\n",
        "        if isinstance(terminate_, bool):\n",
        "            self.__terminate = terminate_\n",
        "        else:\n",
        "            raise TypeError(f'{terminate_} should be bool type')\n",
        "\n",
        "    def get_transition_tuple(self) -> tuple:\n",
        "        return self.old_state, self.action, self.new_state, self.reward, self.terminate\n"
      ],
      "execution_count": 7,
      "outputs": []
    },
    {
      "cell_type": "code",
      "metadata": {
        "id": "R3kaGEYxHn4u"
      },
      "source": [
        "def get_optimizer(name, net, learning_rate):\n",
        "    if name.lower() == 'adam':\n",
        "        optimizer = optim.Adam(net.parameters(), learning_rate)\n",
        "    elif name.lower() == 'adagrad':\n",
        "        optimizer = optim.Adagrad(net.parameters(), learning_rate)\n",
        "    elif name.lower() == 'adadelta':\n",
        "        optimizer = optim.Adadelta(net.parameters(), learning_rate)\n",
        "    elif name.lower() == 'sgd':\n",
        "        optimizer = optim.SGD(net.parameters(), learning_rate)\n",
        "    elif name.lower() == 'rmsprop':\n",
        "        optimizer = optim.RMSprop(net.parameters(), learning_rate)\n",
        "    return optimizer"
      ],
      "execution_count": 8,
      "outputs": []
    },
    {
      "cell_type": "code",
      "metadata": {
        "id": "cISOP7isjmYN"
      },
      "source": [
        "def initialize_game(params):\n",
        "    env = gym.make(params.env_name).unwrapped\n",
        "    num_state = env.observation_space.shape[0]\n",
        "    num_action = env.action_space.n\n",
        "    dqn = DQN(num_state, num_action, params)\n",
        "    return env, num_state, num_action, dqn "
      ],
      "execution_count": 9,
      "outputs": []
    },
    {
      "cell_type": "code",
      "metadata": {
        "id": "DON71JdNjt4_"
      },
      "source": [
        "def display_state_action_dims(games):\n",
        "    for env_name in games:\n",
        "        env = gym.make(env_name).unwrapped\n",
        "        num_state = env.observation_space.shape[0]\n",
        "        num_action = env.action_space.n\n",
        "        print(\"%s | num_states : %s | num_actions: %s\" % (env_name, num_state, num_action))\n"
      ],
      "execution_count": 10,
      "outputs": []
    },
    {
      "cell_type": "code",
      "metadata": {
        "id": "Cst5l4Q-ju5X"
      },
      "source": [
        "def main(params):\n",
        "    global iters \n",
        "    iters = []\n",
        "    global ep_loss\n",
        "    ep_loss = []\n",
        "    env, num_state, num_action, agent = initialize_game(params)\n",
        "    for i_ep in range(params.num_episodes):\n",
        "        state = env.reset()\n",
        "        if params.render: env.render()\n",
        "        if i_ep % (params.log_interval-1) == 0 and i_ep > 0:\n",
        "            agent.save(i_ep)\n",
        "        tot_loss = 0\n",
        "        for t in range(params.num_iterations):\n",
        "            action = agent.select_action(state)\n",
        "            next_state, reward, done, info = env.step(action)\n",
        "            if params.render: env.render()\n",
        "            transition = Transition(state, action, next_state, reward, done)\n",
        "            agent.store_transition(transition)\n",
        "            agent.update()\n",
        "            agent.losses\n",
        "            \n",
        "            tot_loss += agent.my_loss\n",
        "        iters.append(i_ep)\n",
        "        ep_loss.append(tot_loss)\n",
        "             \n",
        "        if i_ep % 10 == 9:\n",
        "            print(\"episode {},  iteration {} \".format(i_ep, t))\n",
        "    \n",
        "    return agent \n"
      ],
      "execution_count": 11,
      "outputs": []
    },
    {
      "cell_type": "code",
      "metadata": {
        "colab": {
          "base_uri": "https://localhost:8080/"
        },
        "id": "0sdlcunplnYW",
        "outputId": "35e1f1b8-ac17-409e-923d-3093fad08390"
      },
      "source": [
        "!pip install Box2D \n",
        "!pip install box2d-py"
      ],
      "execution_count": 12,
      "outputs": [
        {
          "output_type": "stream",
          "text": [
            "Requirement already satisfied: Box2D in /usr/local/lib/python3.6/dist-packages (2.3.10)\n",
            "Requirement already satisfied: box2d-py in /usr/local/lib/python3.6/dist-packages (2.3.8)\n"
          ],
          "name": "stdout"
        }
      ]
    },
    {
      "cell_type": "code",
      "metadata": {
        "colab": {
          "base_uri": "https://localhost:8080/"
        },
        "id": "gzJ1mwCz4P2C",
        "outputId": "8594eae3-3bd5-4104-bc11-27781d032deb"
      },
      "source": [
        "from pyvirtualdisplay import Display\n",
        "display = Display(visible=0, size=(1400, 900))\n",
        "display.start()"
      ],
      "execution_count": 13,
      "outputs": [
        {
          "output_type": "execute_result",
          "data": {
            "text/plain": [
              "<Display cmd_param=['Xvfb', '-br', '-nolisten', 'tcp', '-screen', '0', '1400x900x24', ':1005'] cmd=['Xvfb', '-br', '-nolisten', 'tcp', '-screen', '0', '1400x900x24', ':1005'] oserror=None return_code=None stdout=\"None\" stderr=\"None\" timeout_happened=False>"
            ]
          },
          "metadata": {
            "tags": []
          },
          "execution_count": 13
        }
      ]
    },
    {
      "cell_type": "code",
      "metadata": {
        "id": "D-1XdODI4RQ1"
      },
      "source": [
        "def show_video():\n",
        "  mp4list = glob.glob('video/*.mp4')\n",
        "  if len(mp4list) > 0:\n",
        "    mp4 = mp4list[0]\n",
        "    video = io.open(mp4, 'r+b').read()\n",
        "    encoded = base64.b64encode(video)\n",
        "    ipythondisplay.display(HTML(data='''<video alt=\"test\" autoplay \n",
        "                loop controls style=\"height: 400px;\">\n",
        "                <source src=\"data:video/mp4;base64,{0}\" type=\"video/mp4\" />\n",
        "             </video>'''.format(encoded.decode('ascii'))))\n",
        "  else: \n",
        "    print(\"Could not find video\")\n",
        "    \n",
        "\n",
        "def wrap_env(env):\n",
        "  env = Monitor(env, './video', force=True)\n",
        "  return env"
      ],
      "execution_count": 14,
      "outputs": []
    },
    {
      "cell_type": "code",
      "metadata": {
        "id": "-belfxvT4mjm"
      },
      "source": [
        "def vide_show():\n",
        "  env = wrap_env(gym.make(\"LunarLander-v2\").unwrapped)\n",
        "  observation = env.reset()\n",
        "  num_iters = 0\n",
        "  while True:\n",
        "      if num_iters > 10000:\n",
        "          break\n",
        "      env.render() \n",
        "      action = agent.select_action(observation)\n",
        "      next_state, reward, done, info = env.step(action)\n",
        "      num_iters += 1\n",
        "      if done:\n",
        "          env.reset() \n",
        "      #  if done: break \n",
        "      if reward > 150:\n",
        "          break \n",
        "\n",
        "  env.close()\n",
        "  show_video() "
      ],
      "execution_count": 15,
      "outputs": []
    },
    {
      "cell_type": "markdown",
      "metadata": {
        "id": "EqMi_gpq7eP2"
      },
      "source": [
        "# Default Hyperparameters \n"
      ]
    },
    {
      "cell_type": "code",
      "metadata": {
        "colab": {
          "base_uri": "https://localhost:8080/",
          "height": 585
        },
        "id": "zzVrVN80j0Z6",
        "outputId": "37a7fdc2-1510-47a2-f656-5960e41d20df"
      },
      "source": [
        "if __name__ == \"__main__\":\n",
        "\n",
        "    supported_games = ['MountainCar-v0',\n",
        "                       'CartPole-v0',\n",
        "                       'LunarLander-v2',\n",
        "                       'Acrobot-v1'\n",
        "                       ]\n",
        "    \n",
        "    display_state_action_dims(supported_games)\n",
        "\n",
        "    device = 'cuda' if torch.cuda.is_available() else 'cpu'\n",
        "    parser = argparse.ArgumentParser()\n",
        "    parser.add_argument('--mode', default='train', type=str) # mode = 'train' or 'test'\n",
        "    # model parameters. \n",
        "    parser.add_argument('--env_name', default='LunarLander-v2',)\n",
        "    parser.add_argument('--update_count', default=150, type=int) # number of iterations before transferring weights. \n",
        "    parser.add_argument('--learning_rate', default=3e-4, type=float) # learning rate for networks. \n",
        "    parser.add_argument('--gamma', default=0.99, type=int) # discounted factor\n",
        "    parser.add_argument('--capacity', default=100, type=int) # replay buffer size\n",
        "    parser.add_argument('--num_iterations', default=1000, type=int) #  num of iterations per episode\n",
        "    parser.add_argument('--batch_size', default=100, type=int) # mini batch size\n",
        "    parser.add_argument('--seed', default=True, type=bool) \n",
        "    parser.add_argument('--random_seed', default=9527, type=int)\n",
        "    parser.add_argument('--sample_type', default='uniform', type=str) # uniform or prioritized - can consider if we have the time. \n",
        "    parser.add_argument('--exploration_noise', default=0.1, type=float) # epsilon for epsilon-greedy policy. \n",
        "    parser.add_argument('--num_episodes', default=50, type=int) # number of episodes.\n",
        "    parser.add_argument('--optimizer', default='adam', type=str) # optimizer to be used. \n",
        "    parser.add_argument('--model_name', default='default_dqn', type=str)\n",
        "\n",
        "    # optional parameters\n",
        "    parser.add_argument('--num_hidden_layers', default=4, type=int)\n",
        "    parser.add_argument('--sample_frequency', default=256, type=int)\n",
        "    parser.add_argument('--render', default=False, type=bool) # show UI or not\n",
        "    parser.add_argument('--log_interval', default=50, type=int) #\n",
        "    parser.add_argument('--load', default=False, type=bool) # load model\n",
        "    parser.add_argument('--render_interval', default=100, type=int) # after render_interval, the env.render() will work\n",
        "    parser.add_argument('--policy_noise', default=0.2, type=float)\n",
        "    parser.add_argument('--noise_clip', default=0.5, type=float)\n",
        "    parser.add_argument('--policy_delay', default=2, type=int)\n",
        "    \n",
        "    args, _ = parser.parse_known_args()\n",
        "\n",
        "    # pass args into the main function \n",
        "    agent = main(args)\n",
        "    vide_show()\n",
        "   \n",
        "\n",
        "  "
      ],
      "execution_count": 16,
      "outputs": [
        {
          "output_type": "stream",
          "text": [
            "MountainCar-v0 | num_states : 2 | num_actions: 3\n",
            "CartPole-v0 | num_states : 4 | num_actions: 2\n",
            "LunarLander-v2 | num_states : 8 | num_actions: 4\n",
            "Acrobot-v1 | num_states : 6 | num_actions: 3\n",
            "episode 9,  iteration 999 \n",
            "episode 19,  iteration 999 \n",
            "episode 29,  iteration 999 \n",
            "episode 39,  iteration 999 \n",
            "episode 49,  iteration 999 \n"
          ],
          "name": "stdout"
        },
        {
          "output_type": "display_data",
          "data": {
            "text/html": [
              "<video alt=\"test\" autoplay \n",
              "                loop controls style=\"height: 400px;\">\n",
              "                <source src=\"data:video/mp4;base64,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\" type=\"video/mp4\" />\n",
              "             </video>"
            ],
            "text/plain": [
              "<IPython.core.display.HTML object>"
            ]
          },
          "metadata": {
            "tags": []
          }
        }
      ]
    },
    {
      "cell_type": "code",
      "metadata": {
        "id": "-MT1MS-AjViY"
      },
      "source": [
        "def hyper_param(lr, nbatch_size, optimizer, discount_factor, game_type, capacity, update_count):\n",
        "    parser = argparse.ArgumentParser()\n",
        "    parser.add_argument('--mode', default='train', type=str) # mode = 'train' or 'test'\n",
        "    # model parameters. \n",
        "    parser.add_argument('--env_name', default=game_type,)\n",
        "    parser.add_argument('--update_count', default=update_count, type=int) # number of iterations before transferring weights. \n",
        "    parser.add_argument('--learning_rate', default=lr, type=float) # learning rate for networks. \n",
        "    parser.add_argument('--gamma', default=discount_factor, type=int) # discounted factor\n",
        "    parser.add_argument('--capacity', default=capacity, type=int) # replay buffer size\n",
        "    parser.add_argument('--num_iterations', default=1000, type=int) #  num of iterations per episode\n",
        "    parser.add_argument('--batch_size', default=nbatch_size, type=int) # mini batch size\n",
        "    parser.add_argument('--seed', default=True, type=bool) \n",
        "    parser.add_argument('--random_seed', default=9527, type=int)\n",
        "    parser.add_argument('--sample_type', default='uniform', type=str) # uniform or prioritized - can consider if we have the time. \n",
        "    parser.add_argument('--exploration_noise', default=0.1, type=float) # epsilon for epsilon-greedy policy. \n",
        "    parser.add_argument('--num_episodes', default=20, type=int) # number of episodes.\n",
        "    parser.add_argument('--optimizer', default=optimizer, type=str) # optimizer to be used. \n",
        "    parser.add_argument('--model_name', default='default_dqn', type=str)\n",
        "\n",
        "    # optional parameters\n",
        "    parser.add_argument('--num_hidden_layers', default=4, type=int)\n",
        "    parser.add_argument('--sample_frequency', default=256, type=int)\n",
        "    parser.add_argument('--render', default=False, type=bool) # show UI or not\n",
        "    parser.add_argument('--log_interval', default=50, type=int) #\n",
        "    parser.add_argument('--load', default=False, type=bool) # load model\n",
        "    parser.add_argument('--render_interval', default=100, type=int) # after render_interval, the env.render() will work\n",
        "    parser.add_argument('--policy_noise', default=0.2, type=float)\n",
        "    parser.add_argument('--noise_clip', default=0.5, type=float)\n",
        "    parser.add_argument('--policy_delay', default=2, type=int)\n",
        "    \n",
        "    args, _ = parser.parse_known_args()\n",
        "    return args"
      ],
      "execution_count": 17,
      "outputs": []
    },
    {
      "cell_type": "markdown",
      "metadata": {
        "id": "Hj5oVmPItjD4"
      },
      "source": [
        "# Random Values\n",
        "1. LunarLander-v2"
      ]
    },
    {
      "cell_type": "code",
      "metadata": {
        "id": "TCOzjYHRomhv",
        "colab": {
          "base_uri": "https://localhost:8080/",
          "height": 1000
        },
        "outputId": "d7931c58-1e86-48b3-b3d7-d08f4ee73441"
      },
      "source": [
        "def hyper_param_ch_game(game_type):\n",
        "  lrs = [uniform(3e-4,1e-2) for p in range(0, 3)]\n",
        "  discount_factors = [uniform(.99,.7) for p in range(0, 3)]\n",
        "  nbatch_sizes = [randrange(64,512) for p in range(0, 3)]\n",
        "  optimizers = ['adam', 'adagrad', 'adadelta', 'sgd', 'rmsprop']\n",
        "  capacities = [randrange(512, 4096) for p in range(0, 3)]\n",
        "  update_counts = [randrange(100, 1000) for p in range(0, 3)]\n",
        "\n",
        "  for lr, nbatch_size, discount_factor, capacity, update_count in zip(lrs, nbatch_sizes, discount_factors, capacities, update_counts):\n",
        "    optimizer = random.choice(optimizers)\n",
        "    args = hyper_param(lr, nbatch_size, optimizer, discount_factor, game_type, capacity, update_count)\n",
        "    # pass args into the main function \n",
        "    agent = main(args)\n",
        "    print(\"\\n\")\n",
        "    print(\"Hyperparameters Used is (batch_size={}, lr={:.4f},discount_factor={:.4f}, optimizer = {}, capacity = {})\".format(nbatch_size, lr, discount_factor, optimizer, capacity, update_count))\n",
        "    vide_show()\n",
        "\n",
        "    \n",
        "game_type = 'LunarLander-v2'\n",
        "hyper_param_ch_game(game_type)"
      ],
      "execution_count": 18,
      "outputs": [
        {
          "output_type": "stream",
          "text": [
            "episode 9,  iteration 999 \n",
            "episode 19,  iteration 999 \n",
            "\n",
            "\n",
            "Hyperparameters Used is (batch_size=470, lr=0.0095,discount_factor=0.7265, optimizer = adagrad, capacity = 1776)\n"
          ],
          "name": "stdout"
        },
        {
          "output_type": "display_data",
          "data": {
            "text/html": [
              "<video alt=\"test\" autoplay \n",
              "                loop controls style=\"height: 400px;\">\n",
              "                <source src=\"data:video/mp4;base64,AAAAIGZ0eXBpc29tAAACAGlzb21pc28yYXZjMW1wNDEAAAAIZnJlZQAAOHttZGF0AAACrgYF//+q3EXpvebZSLeWLNgg2SPu73gyNjQgLSBjb3JlIDE1MiByMjg1NCBlOWE1OTAzIC0gSC4yNjQvTVBFRy00IEFWQyBjb2RlYyAtIENvcHlsZWZ0IDIwMDMtMjAxNyAtIGh0dHA6Ly93d3cudmlkZW9sYW4ub3JnL3gyNjQuaHRtbCAtIG9wdGlvbnM6IGNhYmFjPTEgcmVmPTMgZGVibG9jaz0xOjA6MCBhbmFseXNlPTB4MzoweDExMyBtZT1oZXggc3VibWU9NyBwc3k9MSBwc3lfcmQ9MS4wMDowLjAwIG1peGVkX3JlZj0xIG1lX3JhbmdlPTE2IGNocm9tYV9tZT0xIHRyZWxsaXM9MSA4eDhkY3Q9MSBjcW09MCBkZWFkem9uZT0yMSwxMSBmYXN0X3Bza2lwPTEgY2hyb21hX3FwX29mZnNldD0tMiB0aHJlYWRzPTMgbG9va2FoZWFkX3RocmVhZHM9MSBzbGljZWRfdGhyZWFkcz0wIG5yPTAgZGVjaW1hdGU9MSBpbnRlcmxhY2VkPTAgYmx1cmF5X2NvbXBhdD0wIGNvbnN0cmFpbmVkX2ludHJhPTAgYmZyYW1lcz0zIGJfcHlyYW1pZD0yIGJfYWRhcHQ9MSBiX2JpYXM9MCBkaXJlY3Q9MSB3ZWlnaHRiPTEgb3Blbl9nb3A9MCB3ZWlnaHRwPTIga2V5aW50PTI1MCBrZXlpbnRfbWluPTI1IHNjZW5lY3V0PTQwIGludHJhX3JlZnJlc2g9MCByY19sb29rYWhlYWQ9NDAgcmM9Y3JmIG1idHJlZT0xIGNyZj0yMy4wIHFjb21wPTAuNjAgcXBtaW49MCBxcG1heD02OSBxcHN0ZXA9NCBpcF9yYXRpbz0xLjQwIGFxPTE6MS4wMACAAAAHXWWIhAAv//72rvzLK3R+lS4dWXuzUfLoSXL9iDB9lNeCiACYAbmGaCqRRvqZxpJ38hqela+w2Vniwntm/GKCuX/x+DSuriw15s2Vd6/leKSsbumRCiGLQ23dIESQjBrEtjM2PHO8wWmdDRWgcqAevAG92J+lyAIXVxraF83k68qdIDCBrVUKYwsE1xGGmfsePPibYok07Xi73VqOrE/Sucjh695Q/KwywFMxLoyCNZG4d7Zm+mNpOU5pgcNP+ifrWtrfhkAXfVeMhYdowkYBNcR4kRnT4jIQv6uo7wL4AMh3pFQTVvX4AAADAABPK0UhbEoRvAES/69pUHh3PuEQBqMGEoym6FXvGzpLkeW2mvllBcXrp+3Y5PxVrI2gACng/6B8MShrhvh+CqD8HWQEfxTCvAACcL2vpyOYgP8nt9ydXsrjLrXCVXZ4Sz/nrkM+kv2c3UNoFiNDSbNrBmRlyeQQJrK8kjvmbbEDdCmQtA4j69cQ22lODz+Jfp7aGvgdp42BxMriJ7Ewnq3SjfmR7AZgHSOxbGi8RRgJx7cjR2tfcg0CvYk6cBWJih9O9U5rgxYdKd4vlBXKCqpIIMJZwPrmalVS8kCVNQR5fTh1kqiI8PyPPxVAOVSaZ/pKcUkp3T69CLNkVFlE8lFq14N6HgD+YbhkdpqhJJEW6o5IvF1RNdRmrmlgmy86JhU6gYbJCFzQo9Flyrmi8V6W0YNcuDSsEfMwfyZJYnFB+z3fKODKlkhsZxlxLvMfFjHJd3JZ/2rICuHcZorqNeBgjRuVynu64b0sAsbe6pjXu2gWlqZFR77IRnSnfqHu+kn5mdDobQCGrinEyKeOTEKuW2P57kZK9LmFzS0Dmlv/3uGV+qf+pd6/7jZq6ULYcfNYWU7isdoqz4UB8JJq2ZR0V2QLlDouzArwCBQKcE40EySAjFhJQuKOZeqi+bHecmeItBPz5VKDuYm2D3AlAHr/HEKNzknpUOzYp7r2Ut5Gvt26EoxfttKvJIzgKIp/sYex+gaFtm5MTEtmw67vENZB/mQ7HrzMWpR7BKs9326jt0Mo50JspGsNIQbXda+8y47R0NVmOs2/71XMfbNUixMeDlA4j1+UxBDMT8mjRl6BpXrW/4ADjKL2y+6OLJGE0rvlTbSQVpU0adL4kuQQ0Z2fyzHp4wizEA/jvNNo833MAcPlswqJkZDhEfAUw5uM99NGhPJ8DCMp2JAVSzZzDwLXKh8eTzb44hqh5p/LYDoy/4ZR/1OYrUSDi+qUfr6csfwZ7P6Yiybj+qugcSLHOabiq94PkP+qc7+mIfZvVGCnvdA6hgoH6EMdLi5s5gXrAiO1GqB0dPhhigS88YCx4L2k2SauYFwkeWApSLa/OfBHqiLGH7aTZKzQqsC6bURPyeXc22TJsP9kM+U4YoOH3yM4MOaVwNrgMuDl2JEmnI6ViHbk8EKiJcrXlU5f8rxMn9J50j4BkE+Pn1glfkI8NbgHoQUiXy4ZIqejSjGKWsvXmua0mf3LDITfVwjo1peDf8U82gqo9sgYcXvbEmG2sX/+J96XqZwZMURo63YeN27y9ycjQ8xKypP4dqTRxdY1ke1ERjeeRANdWgx51GReSw/m+08Ko4Th4YzlNYGPUbv+1+HuG3pvhnJI7tuhLo6AhYUQT60h1cvQ/Qex0Yj7dKiC8f+UdOJ5Nz+ksE1hY3UBbdwGab+d88gBnjsNO6EYfXxu4dVtgy3GkpQCpglQOCoKdPryTjEbxF95SkV1bIrd2/0HNezp+CoDo9b5Xk43n6mQKu62mCpHc9eytKbhCaXuJroP5cf/O3RykcDMX6li0zcClSGFc8DB5u4bB1uHApLmgdgLssF1ixS8vuq/+NDZXSd+C9Cb1VzT6WGldpwGIMc8GnBeEsmIE8MF9k8+9gvVOhAZZm/iaSHgzn32onbpAHbmgK2pjkea8TvRI8vp25QLmL5MAmetqgIXUMfXVQYWgThKTYASGQBat1P82Kg9n7uvMCcute9x6N76MV7C8Pg6yWJKHmJQSS2ZgT/++IZeXwL+5rgtJWob8OvaKQKToOfzUvca02G0F0/+C3mRF0dAIETDgppfvXU/USSTdV6TnhhYXp4/6BT0xs5UkovM10Ja1pUMKAMq2JJFVH7inF4jr+5GtHB8l//5pIr/YedLNjBi4NOH1izkyWbgc+vU1u6/hf9G0Fy8lX8g53+VvChj/ywAHRF6ZucCwVgrns6yAfR4B2xUPBHsVAA2d5jzb9G9ha/ytaQDtq6rj3Jc6NPCSSMGBHoqFl0SEAAAytzq/YBJchuCEt98BzRaoBNj1hdk+o1KiRinjBZmvV8G3wExVNYTof4CobOOoqFzuMCiMru1ytsmh8EtuQBKoCOAf6TyTehU2dVJ02d2R3zLhLjdixFI5k1EcxOnTvpQ9mRaH3ogt+9SnFtTV2DZ7VsNiFm8alnh9O5jXiokUMz4wlf7x73FIABY1TDCc0pNBaSX4A2XSRuIGmRmgAAAP4AADzkAAAGHQZojbEL//ozTM3+kVVYtidTrwAr8XD/vy75DOC2wYTmHmO9odljrtSas4XVeOANJhbKPoATaPSIlnlXL0GMGlR+NUOAP+ugY6k9MdyrijSKbJGggpfzjV6D6lr0PJ7HfAT6V5RAlegZwDutWig4CtgmHa/kX/nfEcxOrMtAAAAsqnchT7gZeYIf273EAs98/DUelNyP51aDzFy6J5R4NECCyeewmQLLZ5Dnu2qZoaBER9Vp58lKJ+q2WP20Bnl9j8ICvlsRUs4+raj2Mu2oC20KWZBafNSvQdEwoL94oUKiGZhfOAGXbcXqf+jrglYeyXyPJtsC6BLg8aANKSSyckcBXqinMLIiramqGyKLCdIBOWbqPDuPF4Em1jjtN6CV6JXE7rHHQvRzpGPdTjMiUTZL2ZNf/viuPdiPNq/Vpo/0EvtpNI3JxxUcVGMFq4xLVWretYq1sKRa+2MsuaoDlBrQq1kRVSWL/G6mxiiHEOvR+q9U/pZUm+vuj1Fpsj5ezaWC3Q8WkHgAAAGhBnkF4hH8PKNqee8zzS2ACduy7Nad9CUTyw4HaVAah7uVvVSWztcK8r7Ok2347LPQsNQNWGRMFRHli0jbIB9PGlYAdgAQUClJMagXn2aPseuI0w5VqX7VVRlJKTxIkcWvqOcWbGJNz1QAAAGABnmJqR/8U/VfrbxuO4f4AWke6/jWfh6s0QUXJPl+Bt4CmLnYBhND7G5lH94gWNqNIkVX1+6i84Bv4qocxMawPvVORzZhTgAPM3p7rmvuIJu9fXTdgGfOvl/DOdh8AO6AAAAEcQZpnSahBaJlMCF///ozE0hWbl+HRAdhfR1xCRTiPLw7pyNkv7bdA9rp0ABabjoi+a3QeTEjreF/Rur03qnt+e0QKvDv5PT1cFzyla4ekjyE7LcfxKPeXe2KdJAkglRWM+Hlcojq8uL6FP/57FHPUf/pVc0yAJMyQAABtuxmlaAScu4OAj/qVr1M7WsED8KKhbTMw/+MZEU7rXoHMvktCaNPHCDpqIMfY6uTrLCsZpB/XwSG54fic6sxs6bXT2hurutEX7BTlk5w16zZQX4Pe7apl7w7XxUinThzPZ657EcM2lBxwx1Fp5BGXTP1WU28dfBgn7+74zqCJUxyrrA5YPOkq/NuHaBD93Y2uhH820PM92ZS/zahnDI1d7QMAAAByQZ6FRREsI/8Nw5uf34kACJ0UbqXqXvikufA0OI03/yHhmY+zHDhVhYblQfEy2HmfYcbV5897CSipwPrab1R2G3rCVUiWP+6xYfLK9h2oMHUADuy1/NNrws9HbdI57uW3/G1ZDkUqKWA1TPcG4YBwCwyBAAAATgGepHRH/xLt1t4/GlW2hPU4pnEZffy7O+krQAfimGe4pfOA3bTrqeYwj3KN7EaSf+VbrFABBP40rqvI/SqYfpXwXzystrd/jqDIhO09vQAAAFoBnqZqR/8TA6PX9XLcOtGdfiZDkdljtbAAp8+MmVI813gAS47mCI+Hi5lPCDSe/IQZ/EpnsQaSQ29BHvM9oyBEALGRf4SPgCedw/NKDKwcnBaV2eo2b6mY5BEAAAFiQZqrSahBbJlMCF///ozpG9hqWe7uACF1DsG/j2PZiqwxjxKe0w0rz5ZCUliztEjVnUkpVnMqujImb8kDU+i2e5NxzAnlP0BM9KYB8S4EjfSDu4xD/7KYUkbBfDDLlm4vhzRRI6UknzkAf9mSecPT4H5dOGAuqjHgvWFLeitL5zFMEFAw1T0O7hzjjzGg4mNFafFburpNnyRSpYexYZXp62I6kAAACVjQHYfIHIdvoUJQinD7aCEdNYFVNau2jERJ9Uz491LXC0WsXr0z+Spf5z0Zns/JuggKOTBOtkd2tGYmO2j+jyItntNZispqhEwV6jLdRCvX4cCqU3CvCg9Nv2eJIRpCMdcin1oALRT6JSSmZ/U50UyFsiEEDh5+Enq9vgfmidrEyREnwiLc+8b6XhBEJL5idW5oiYHU/IUmBFETgb9Vbmd4fBbj81ImQ4XTEhvDOdY8ZbATRsugPIWFkOFoAAAAoEGeyUUVLCP/EURbZZOEyC30ZJwACcEWyatWzhp20kF6fWhtELHglW3Bi6eFinQPAo33HIY7/b25VhZ1JHOEh96Z+9X1rBdskH0i1tg5ltLYy7PWuydoXtdLSvhMEFtum8ZpO6CGC1a+Jbe+BCM2ppV9iNmCB4DDy74M6LwDA6mPc+42DFjAio9sexzFKOhVgnIlH+dRPzepO7/R0FbWwjAAAABnAZ7odEf/Es/VgyJWzYU3CNRg+DtRCrN0AHyHdQnzUxvCbfBMPYhOeP/oQ6ds2ukKxUPbKAdst4hsCeQ8kYPBVCWIRsGyPF0MLEBvTgApAAV+qWbU2GGXBrBqBJy20dvim/c5np61ZQAAAIwBnupqR/8XJ1ZA6aAAGit+ny0WUM2nct21p+rIOblQaap/aoggnjZPVxIXycF/RAyikdb5r/PjYHhtcfSLQf4MRzyT1AqNsce/6WF1970120Axb8ccZdDxZby8qaugIR2Y5L2Z8IXU3n+fgAsLVaotx3K2UlwAIMJ0DqrNqY9caOIWTKWex1qKzvbxwAAAAShBmu1JqEFsmUwUTC///ozi5X71BhdpE/9QAaGtBo0Obyj7lO/tUIOQA/twegbriQ/+i+xbsBwon9f5XZisfyb+oQhjz/YuHwLw8QC8/rAmBkGAFrgADyGfjaFX8yEavkWw4Q3O7gppvMRimN7xhsboyMsQGr1fdhIb09HAOd4o0xEJFhs3r5eLdw0jYWU6o162SB96dSH5BNiDZMyynNHDUj/N90E5YKspeK2OU4/cTBJaf64NiALiDm1wCdr95awANazrMsoDSZ7T1ZM1SNMjXBzXV7Eo8GprOgEfp9Xxp4dFZ2A1WbY5m67kZ7GNtF6psrcz+MoQKJclDab1Cdfp015fLrHAbw+st0N5mPlbmhucz8Lzk/YzkWdLqET/Gg+A/hONk3qkoAAAAKUBnwxqR/8XDQviEDyvGFADkTNUiOskY0xX1aO3Ah+3ShukEud2qydzFrUK04cMMKdQNfxBShvE5uDbLZWQYKndnYt+h4dfCdsHtErzaYsKuiliI/YRpMiMpaslcD+NiU96VzF3v5eOeQTqvaBvfYNu5XUWe2IkRCY55auf6eqTyRratGYRQ7wgQsWhu3Zm6U8EnFygAcoMRiSwexNTnwn4s67yzZkAAAFpQZsQSeEKUmUwIX/+jM9C8cAbfjS0FVwMcyPH+no/C29L2Lo8fPBsl4oZA5NQEjepIXXND0ISfe+Z2ZoVudJcPV0hvrEVAH56x2fHg3/ansMUpHvLwJX2gAAAAwAQ4ZoQuuNsy9TQyxtUb37YX0PPZLfO7Lq/kXXWvFIVF58L0h/003yDECCvXipl5htj0otAxrO2AEmqXpuWDOL3bala6TgMyxoT4gpDcn3AJk2ymRN89n4wUFEj/jfAh2W1AzwdoZdYPqRP1ME2wQTMEKx1s47vfHsNQQj/QqyaeOhC/s5wDvUFoj4z1oPU1J8aSfy6c5RYNPYwbdNbipItiO5RYL7NToB7r7oHmw77qdy/VgLLNsOkt3ag8E09qePfXA94DA/F5F10FMNmhCBNjHsi6OoK6zy0Lfnrsc75n29G1S2QwfpG6Vt1Bs6gMZOfwumT7T6cwwV9RAApACNltbj+9Mk9WFuOE4XeyQAAAKdBny5FNEwj/w8h5gi5tOb2VOOq+IAW7PGisIWNoLcLYGKdzT10szmj4w55IAeq3nezweXbPDxs8LhWWExxGGs7jZDBOYrPSqAesaNDgW9siVMUxNIAjgZimdtdyTCgI6ouvKozLtUhacO4UI53gQBT7PeEF7f4jjGZgeF0kKttzlVWxINEhCmL20/ABkLzchSlLg+WYomFlhW19BfMFf5XDYqQxtElcQAAAJEBn09qR/8VDqWOwGAIDgG6TGXvdmR8oCJOKMA1ronvUAuYbicGsz5c98x1HEwqZiCgNUEdemYWG4xMcAquoCvmDm3pDA4Aa7dj9nijc0x49nl3bHtAWzHVnMvS0VBFLtCVo478ZGyg246J/Jq/Ce2FyjyXrNEbl+GFdsC8NzftAE02vlC0uJ+VobFeDdGJoY2gAAABVEGbU0moQWiZTAhX//44jW9kLeCErEXgBLVepv4Nl5QkXZMBjA9LPySwSugd4U/beG8aN0AAjzIuUfhz/ob3fdJM9Su7nJDyO23F8XPLn1xIDslwIQZRVGv1heN7hy+VEyxOETwY+KQZIweMC6phP2r39ezCRfWtgBmlWrvvFdJYyQ4ViM6xPmc9poVQf7xF4YGgcQDIPSjJgArAG2LqwjsMRaYqPiLebxQWRcMY1QxMR75JOYl9oX3FRd+StvBYq1ATccGcI7/vb41d1X3tR4spMgT6VmKvPO+POIGWFGN6X3S8c4rSgMnws13HHxsNhnwN9nv6HaJ63bRFQEbumI2VtzZWUiSUxhDOz+/E6k6vUGhPVKkyAgBT4TBBEjvz3LxRJVCu8zUxoQ/I5Vvg3os8fjtG9gGUF1NdJGZWEN7zSDNgCfFarbwKepyOM/JDv5NzGVAAAACWQZ9xRREsI/8PaL8ztkwDtIALQW6zEKss3AuW2kF2K04NHztED88JGQX7DwfnVKh8vp7GmVSETe8QZFWC3FTlBM2fxkdaFyhTzGXRhDnI1ttYUeSs+oNHenkV9EEufTL6Dz3sxnIxNHdOJkNc+ccTPQCKsv5h3TbMHgASSNvwAGSuoHuISvifA46WhIPLZ5f8ZIoct29JAAAAgQGfkmpH/xT9BiZT7gnbK8gAgwqHIp7FZAYqur5sRcbifFA9H1zZ7XIAdph2OzNNShJooZD9nQ7T7lOrKzZ3MXMzGgNy7XXojADhfbGoCY7fQKfbayXRVT+Jh1EIPcuSTZFQRo54acIlSPuIB4CEelzprgAz3UD/jFVnKBZHoCAqoAAAARVBm5RJqEFsmUwIV//+OHVyReCLtxyc3vWAHGIhshAjd7aYMcB14J+FXR538HXcXy07j8Qjvs5XprBCZfrT8Hoz4UzSCsWAMB8gio94NhKHnb21MzK75Ofd1OcFLAnqjnKy2SEos6kNsxEBkqtjvTM+udqkuW0xVXD9F1RcZXD+suDqd9MdtACurkLWwpUmoT+pK+TtbprpONdLUzxk6awv9kGa0LmhQZVlYhQx3Xa8AGkY+thoJI/yOQea5KmQw+R5xP5sL/r373Ufy6RSA2BnzwUzDXzRlHXflT3FIRKHMfnR92xuq3TpzqUxh5d4RKZrEoEkyUNu3ECCWt4v9s5+aZQ+vKIjxLt6c21ZM/55lrExD0UQAAAA7EGbtUnhClJlMCF//oywCJjSTzv9dcP/YAW7lXSoZzPHgPwpveyHHea6CwSy72kFtGfoJI8tiSn4EgBulSuHqI0ZtNt0QPOK3As49tT1SECQpq7v+j3NB1UYXYMBnDbmG3fOn2uhddpGBWOfTVsy1/+KmKhjO5f34zk6f2dnEhiaJpphTk3VgsWCILU8wCkfDyRoPgiU6zzm2shvOEYNPTfX71mTQnBDE1yMWEG1MvQK4366boEBIRMPKR7+5CuZqWyE8/NiBtKouw+OS2ZYeoFs7Y6NEQXG8y3KDt5nkhzrTdeF1cge972UJsE/AAABTEGb10nhDomUwU0TC//+jLAIoGVKVvSAA+h/n0rY2df3IFiebD057qBLOrBdyP6n43rw0YQnX/jrThmK1hqpx3fw6Rf0eSNQvF2mLyXcaUf14A8+Tf9TjbfPREeuuUJYtQKNOqIaGdJh5nl5mewA+yt0E7Pz7/0lRJYnfXiMTLalte2GmQzisT1FyyuOZoGyNJZqPgzTbb9m++M3ARiysK3uCaKY8suwDY0XfptWslFaC8zZQXlR9nSNKvI4hiHx0sz4JUwyvqJv0aeTBwRjuuEPd95+YnOAI7nXszNR8N4LULYNo0Bh4/8Y880Fu0nC44h9cMFby3tfYt0cuDy3aTL1g5KL04RaFtn2t3rHM5fM8UAmOodiePAt807/91mefXnDzhWXeWS0ZUHBRZc6g+vG11ZMw+IM/9rmZRkUbwK79v3f/y9AaI/FXljAAAAAiwGf9mpH/wOZwMe2lz0AvduikB+xgAG2GqsQYnZ6jEbTgcV2DGh37FvVHRdNuGDeWQqBYwL0mMT9txHPJ0DcChuDxU0M/XtFBOi+LjRz7agoMhiLrH+74J0wPSpjSmwCMp/LOSp6Fh3En7ElBdmtXrceflwcPTNTLAoeIvf/+nK8uNjqAfasKYfPhcEAAAE6QZv5SeEPJlMFPC///oywCL43+Hi3TYAJ2fZQBHWo+OZF/WfBA5Iu/ktdH91FVmDim2dx0VxTkdCQ0DSywM6llmU+arsrxvqaiJaxHetc/YkslRnXTVo/Svf69IzExL22gK9aYci7m6MLQx2AL+lan1+cV/EiiqHIjhBFZsKVOzVo8K+JIOdungvBVfMk7J9VrPrDhoE4FKCsEzCF/vHg1XjCL1itnu+iOwRGIaUOulkioJef5AVz9P8niDQp3QrK2xDqyQl+8DAkhXU9VI8MVpNu34yzfdSiUiubYr4GD/Uby5NZVWtJjX3qf1Qn50NJ/JCl+O1LgNbLHuSKMMupPWlrrTzJW/5N0sO+qs9mLm4skyDF9SSJYkRSDNB5l439xUhEWYkhePEZMM1lwrjGGc/uKzcgfU6aJ3UAAACeAZ4Yakf/A5HuDooDoPwAFgasH6lAFrWf9G36c4wRqwbrBon3utpN5rkrSwMwc+lP/ufwbok3YPA9CNx+450qqSBIokEMRO7qlS4XOFoBqjzaYrBBIufZm6EKZx9hVUVWEn8ZUgP8E0y3ulJfS+cisX2o8+MSs7ML6GCezNmvEj5jjixQUJtHRPXlLj3HKG7yb8/vZau3K4ZAArPiHEAAAAGJQZodSeEPJlMCFf/+OEAgvghxOtbyj3/28wAJPsHRqX/fAkDOZ8kud91Ss0DIwbEELIw9onA8IgTAES5MnKF3Hj71SxtZ+mFZO6VaolSckugNiQ3DzlQlVRH1jgI9mB/WC7sh6kr1HP+7UN3Rxeb7SVe83dPSocm3hyZ2mauAY8mcBSsFDsal1xNtsk19SLSDHYMHc5qXRGnvY0JWghBCsXkPx3FOjONDGxDGgOa6m3Nd/hn8g2N8IKzTxdquKEvJvnNHH7aG7BQ54jDJwh9s43MvrnHTqXQzVwAmNXCwLGK0p6KVK8Bk9A6h2VC+gvItA2uj7dfCac0KNKkYvUEbiXgwSiHlHytR+m5sGoswY7ovfLK/7NBtSZ1TzlZfbjrncGZEg56eMVqDY0hEO6ugMYGtwb1U5eidwXDofIXOyh7rNJPnLI06eCog/516p6WYkfn+V8SexesCz1NEGNS+W0TXBi0n8ox5v5vbsg28H1QWClBwcjfO3/K3FplSg59jK+ZR0f2kx5dNAAAA7kGeO0URPCP/Akr+ucwqxthdQKmgACKt4CqD+TDcTcdwI9QPLZKDdgNJkuy2AWPEQmYOpmO5Fr5L8TqqeEsMrs9S5TRh+bFxKS8I0cUHnIWb56SiIMdenFo03bT/UrajAA9CD6FWM0LQl1+bCxU1PsQBn4lMVZWyWer+RCyNeOzgIvbyv1UGJ0YrfsahLdlrkflQ7VhfyE9ZnohZwRWWqWokgrAUGYUO8gKEtWudjyEHse5MzzBoS+40CVx1iqCwIBE1AsPLiX0bp8vAzLmDqISaCCZopAStdl97rQr8PoSiSaSO1WXFKe087m7IblIAAACkAZ5adEf/A5sPtNsV5IAnBVRVcwA5Vh8PkqbiJ42+iGJPfwiDDFNHdNL28+1MdTsSgyMIajtnINNoKX9qcUmkTq5uC0zQmLYU7+uk7BLxi9Her98mML7VAzyLxJJncBQEaA269msIxgX7n6BLOTGkpMhKKJMukrFxQ9cdJzvxnQeszEeilCryVjJiAn8O2dch65zcgN7mhEapTzE5zQRSzKSx3dEAAACxAZ5cakf/AVEgOnN5yh7eXr5oAWzlBZomu4SUeIANyt/dNyuNr2hiTOIsmEWkctBb1NMvBR5HHAIXiZUiVB6gzluiKw2wKIj33A+0Lwn8p8j1oitSrnVG5PaExFOOqZqXi/djnvNVlRimueqXPEErlBmZ30Xm+bgpPaX9oJB8ZXyGsXw3Zt9hhAmPWm9aP5qI91+uG2pIjdxMZnlIu006IqcWErBBKpzO37BLHhowAA3pAAABLkGaXkmoQWiZTAhX//44QAn3wRENmp7sjz+DutLtACBS69twJwrEv8Bv0gGlOEpLcvn+nd6m8fKrkPzqzR4MKzqpvDp+YFRiqnQX+mdYO/bJiovSZUsl8dWXUTPqj/0GJBP6MflN/NeUakueu/zTQjNlt7LE+p1eRbt3erwLElROTVtRbyKatmL/HYBD2XboVT6BWpE6VOaidgpk8FFJfePcO2jVXZSvYcUaBsmIK3HwoyujlNQXChwnzeuKz4NggAhdM3ESiTj8u509A6nwBUFGL05iKpZsWPY9cpgiYZ++WSKUSIpY/Wwkqp9dCrDFre4WhWO0+R1W5wvjZLOwfGK8est/Y55BGFlxqzTBVoF2chgfsB62oYynA3Xe7Dvri6e8xDRQTodnc9IM99m8AAABEEGaf0nhClJlMCFf/jhACfcS8C8mTACVGLjgNh/VDnTuyxM3hC8rUpX1c1ZgfXV4L33mvdJA8nqjgHrfV9wsEOIT/myPtJqE0HH1RyU8xvhOSGFHZZzts4eRFbBuUU0qQAinmXtFRtX4UNuWPNSkn3nHa6AmAgrD8kdxWutlMrhiaIxgCs2YwDNFMXCh+LkMD/szdNeCvJ10pS8RAxDm7CwT0yLrBZ5BVDefeXj9Tbn6HqFBBISGi59nyxUEjGRh7yvjcWN0STlxdJcnBsTt+vUgzcnDfbTS1Nssz2ww0gDDU/pPUuq24wdEM7/kdRrFACrqVBAK0S+4wjzZNqBojlFEr+3mzf2uXvJ6afncfwR8AAABE0GagUnhDomUwU0TCv/+OEAJ98EOJ17oQy/ACuKys2gTqUX29EJfp3RP3ffduXDSTLIDoAc33fe/of3w7N/PjduM+Hu0eeH+AoAbv4VxWHjy6FZ9c4VCNWwGsRlloay9X1Y3WC3FgH1dTtbhPdKJNq5Rvnil5DRIEsmzsq1VbhhyF48eVcR+P/o6vNxX5YmAvGB0A5uETLJzN/UUx+8wYN5x5jl9F2IcjkIV/JIBzHWGo/qBsoJ7OOj8L86+k4wq3l6jMnJfYE+Jc7+oW7qO/86UcunNMQfdGYdXfUcUpFG6ktlU9QiwIO4zLunSkCzulHfhkkJ2CTBYT/a0/T7PNTiASyWWOGYPDZzVfZu4+DVGIDKhAAAAhgGeoGpH/wFQRCxWB6vZVzhMA1exTxUKRGS136tCj/qo0UnwibweW4h1W1+pITS+YJCs8cldOyvwmdyd/VvNJ1FD2IqIdP4XhhA4NYxgTrc7px62rbxF2b9x9nmcYHAY4ss+5GQqsuvKV3L8rMBsh43/4qWwy1yYxVmRxRDdaU6Tn4A9TW04AAAA+UGaoknhDyZTAhX//jhACbfBDnCKj+CXMNAIR5wNGZhnG/waFvPxDDHUIBSfe/7LE8jgKRARxvILzBSjcqq3LWINhZo1Qo1vOf09EdsfkUZk6plYgK3Xo7CpmOaNLSHQpNx1T6dwWGUfJwDTNp2EFwYfWsgVaL+Kl+6p0oAxSYlLQRe2H2Nf4T3N26gebzpejZ0E/8my9x74JjdEX9UVeAcJPB4LUoHMTPpQbtkpGIzR3zSa4wFUS0hTTUo34s+Zi1nxywAop6r5KxEKiHm6LLkLughAG2U3uxgY4OwbWgX0iRU4fnmio0/JAdlWVcEB3pmXGW+01HADlwAAAVdBmsVJ4Q8mUwIV//44QAON6kXv9ToPyqYTcyziABO3Zq3o6tPIIywml6RfepnOmu3XDMVPyIPL9jGs/Ix42pRw5JI1wx8ELySLwsVozbxkM9NheglNPuOu+VDLIEOfI+MEuW+uEP64420yA3A3bPpcMLG31IiSLdM64o1afwsBJKWEY9+IlL7I0pAtxrZnrqMggAHcq6Ntg1vcvyuRbKS3buSiSNs37nDYLtWAYwX5yKk1IR/SA51DzFcsKPnF+o1jVkb9cSN9J1sffFkiVvZNMvtKf10IIdCD2+VhR+5Vbv3aHqY+jfrjzJmNeSmFI1FSB7fmKCi2aSlb8bdCTEuoOBbtXk2oSWyEL9iEYKMqkv1R0e3TKrD/QwcRmHKQl3BHnkSkGn2nvdlrq3rbvtlJ8c3nlWMYuv/W0SBDjrnIo1uYTtzbQ/qi/n9bW2FKH0CMr+oQgDjgAAAA2kGe40URPCP/AEt0aCls2m4gzOOf/AJpKZrH+JRN8i9R0S58v5KjNWMcS9pwT6D5Ua/2MD0Uyq4eUE8dinEytpyUabIaR7S4Ek8q+luImVdkZ2Tfem44Iua2VnJarVfxRH+BLef1cykpJZxH12CD4hGFje830JKjODZTlkQpWlJPxodaiO39SR5t2t9FCytYKmz2YFVE+FXTSXocnpzy6btGORHtRENzUAgbgNawOw2rgebG8xfDLuF9W0zNNRPBYOIqvY+HoLoHSJ5xR31EVwQfZWN2iyQJ0JtvAAAAxQGfBGpH/wB2s3oJt3gUqiRVDwOAA4rgsV+OZxHuSjoOgPQ8OmIGdf/p2OkuokbyrG0wEURmiGwF05uo03PijFLW9qbzAKOhYxY8gDAu4N6esjLi8iKlzUXYsdo+S8CiLnTI7YqKn5xUxSHGY5fQRWO1jIEIpNDCnRft6SeNlHP2h1BmZWlKveNitY9vQi1agoP09GcBvmURSMVO3ZvGgitqdi/xqU0aGFR3XGDJZhGAGcOGVlpu9Ib11LRqLsMrJjQCANSBAAABCEGbBkmoQWiZTAhX//44QAFR/M56h3GY3ausb/8tgLrPrCgQknK16eM0xEnh8Q4AAEGc/B9688vf1HrVtxjHe6kvpDDKlWK9JkRfzNNLZhOx7mOr5VfJdHMi89TcE6Q0Jbvyeolr/Ll+G4yK+v1SEhPAZrNZamq8ULKD8d7bU9/wbhZqhbqAbZv7x5+vwLG1JMptdR3L+rNqdsYtn1jaW8IMG5tnnXhH6D7oLSCAfYV2dKt6wWSFtCSxo+c7R3mNhqmUMmpcpsyS7bAb5hhvSEWVJi5GjHIlUXDRmAecAHVP6D0Du4ZgEVM+Unkjexsu27rp3LIa75REgwz+AdYYYNNRmyJBK7mGpQAAANpBmydJ4QpSZTAhX/44QAAucWAz6v7VJSgAtk2oUhCk0uHXZSpMwGhWHHYb1l4qVYR/rEWwGL/N3102qU6WQMitm+8yyTlL9vQKVO6pOEYza3sU/ultT5xJSiJZhsuohbINTLQzdNbk4QRbn/USDdqwvQhpHVWmtQJg3Ey3uZjOd9lMaDP91zifi7/zycG0z9D98xE3N67N8pv2UVZSxogAj/IC+u7K6MTVV89QupTsvBPDr0gD6Cxw4lRZ2kQTTV5s7dRxzXu6k2aRD8ORSOKIxJb71eTfawDFgQAAAQpBm0lJ4Q6JlMFNEwr//jhAAHZ+PgAHR+2L1tLdFvG+aPD0hgPdyOi5ZjwdvC16EYnnFJxLGUczsPXyU9qbDkHjnSQk5NsuT+yiRjywQsp7sf8ncfGGm/Jp9eODEhwxWHAOIRmZDzwpMg4ZxeUTW5pdOZC9QNcR3EUM/8aYI0OwxpL7apQbwWvgVV40mCk/LpOjTRr9JdWv4vOrNbIfXHQUKkkQl8A6yO5II4HX/U369HFI6ONd6r8viuv24p/pj4XgmBgPvGVBbUY8Lb7Ekmjd92vf+hC4thmhtuZy0BuGcuoD4ZeLlimR6faTlBTaT7/MR1/Fi312QThxRtdCcnjGmWnPUjUWaSAYsAAAAIsBn2hqR/8AD4wAl1s3W7JKo0C0e9Xv3MADQHRFf0jr6ymi4lb7dJv1NnoHYiR+67FMvkZtfhxDfcH05t34BSGPJYhJ6xEqz1/vWTkwv5e5FW8aGdi0sZAU4C78ivUmGGHJ0+6DoB6uS7nsC4r0HEd0wCSo62qlnXgy/NpVzos1Md2tPhfMKkH2HjdgAAABGUGbaknhDyZTAhX//jhAAHc9SLVzMyrbZ8NIAsEih5osAr/fmBBE8uReu21sudgv72nw0CEs9yVTv9UD7OaVmXsliTE64Xllyx0DVKz2E7M3s0h11gb9vJqUP5qRwlhKI3yLFjZxdmwwEEtXH+5ll6cohC5F66tavvTcG9nGmAOotLx1/zpLt0jFvQ6KQ78vfGWHZ0eraUPLvjhwUW2cTrelEeEL48fDH+l5J/WgG9TpoGDdQVBoHowVXeBJnTFktAShB9jy/6ty9Di+FxDx4l/aytI8xz2CEcJ8hhyCbogR/yVqjsq3QpvdnNFmQ91FpYvJsQd5xY4iNCyQPfVoE/m/Om/t3cyj3QEpQBFCcNH6nTjS2BmvaBTRAAABaEGbjEnhDyZTBRE8K//+OEAALZ7Wy1sFPfA+AnQAtb3ngi6o+cT1E4DVQppYlPaGXG7JHhZMrCZuUKMho302vJGkpuAem/YRAisnVuCljE4eDdxp4CaidzegMzk4Z7Tjzck9qo8BgG6pthS8o0bhbbE9IhI5vDGoHy2Xb35yhHx1tQjFgAALVkm/Ci/RYcVZsXtIUxYGBV/8uWYeXUCg4+Fslqg85be+So87US/t3yLkQaYLnVZn/8lhQ7Q/4UNINB/mjIADRdARl12HC+ZbgNThnrIJWkZzZtKYVwxknxWGzfuBcL4kXkobX15BVXMO/l8aVknGCbAdVzYAlY5ZtxV+r6M4BTMEPqE9cqa+nXIdIMFlY5pIClS6jzRMUoeOSurIpJJWdH8cPjU1xBigPdrlCDN09uXOLl3nFfuNn2q5J4A8QXdlipDOX/xIrT2p0Bv+gotO2OCbxQrPK7m39EoTOUtE1DHjfgAAAM0Bn6tqR/8ABffbSYrIW/7SAF9/U/YUNosZS5dygrR3+bMofj2O7jdpM5KI83PFx1QgPQh0C2sJGLCZ12mQmHmO1XAWkh6yutG9dDcvEk1QZpFlUiSxV/Lt/KVhNvy64oPtkxk4Ybnrziq4vqtRezvnbSkbm2sCDwnzqxUxIAQFpWV9o3UWChfwcSjFdQc1myqpHFE7j9TY8DzWZamtqzCR21AL0aFmxqNXmZBbFiJfgOK00mOK/ah+Yg+1O/GI5XNOFyOkt1wFXaEl3vUgAAABPUGbrknhDyZTBTwr//44QAAQb4IcTr3RtHqwhVgBMsGZEDszPFYYC7dR5Lqa5rkrsB2gGbSn0zp/8Zd+zvBqsgNrfluwYuhf6nSzpTzJmWX8KC9cJbY0n2a/zMSgTEVw87W84ntwEyQ+Vvv7zxoNGprnz4WivdJqp28qlFqCC+hSSjZaiy+7zejwTTpXrY+luHeWZDGNwZzODs7YjuBlfBe0FRFOH3e2uNbYE52m1Kf2KDMgGNvE7SADayUeRBBw15Ugym0i9GXQrbsJxVu5qlxiYR4tP8QZzB0pv14Blr06hhwJyehHyiORh108F09JgydFIRiE1q8tPgJ1EM2Muv6Qa3za6J9nkyU+hHuSJ/5y1ld47KqmV8e9+MsJCaoIJLD45TLOq0HPMqFK280LY+XqsxKDg1AFFDdzEimhAAAArwGfzWpH/wACKxzAlvshAAQeGn/daXNDg982tq4IYIPv4+NJwlFGojumbUzeW53xPeRG48DkIM1xFhnBGgxNDx8ID37c2LNQZL/GHI/VOe5W9l9VlD18Y0jB3A2HBNXhjtVu/5ixcLOuIgoJlKl+mfjPinKZ27rHxLqRgh6td2AyEtAUzKBuyfifbzndiXmex/PhTKgRG5LBgG4vmbYdBl57mzJruUl0o1px8mHu7okAAAFmQZvSSeEPJlMCEf/94QAACPe6r8wcg5cJbN9EFHJ9AbAByuk3/fUlmr8cZ4BU9U0UN5mTT1ECg3j7if+NO13koKP99zX/eYDDkOThgXPrKm8pDX9msZJtukaxCS/IU8Q0RK3qXqogyqOgGSDIsPdsn5h+fB6R2jkFIB70K3CqHuUyvvpfvffMtPsLmHQPkPHGAPmkenkrK7CTGIbArE/B42kFSMyawdBS/KxGCaCC6JPfpzR0qy5HLjLFPMCAqBmRxvDly0wF42R3oEKi9yrbFbuRyFSH/UN0eLPLkIj4vcYu0HcrHcnqDnWj5I0zYOHkyUnEN6EV47AR8Jk/xMWbeIAr/hy7PWPz4+Q3lpYAYndaHDhx1zweNkEg3aagWblNYkaiScEhdrKhMe1qoa74k/B8SfHPX5wYC4Tdwn2tjxdIF5yIy9J1UVWddPdQAOi/0FSr/Wdevxc+C4Ovo+xD48asKWNY0QAAAThBn/BFETwj/wAAMQUwpryAA28nl2K31G4jM93fPxwQBjJuArma47WhTFhixjI3LpfSzXF/qYKVULa96PrO6fbSstg63pEMsy4xrltwT4IdOTarZBmvjBr3IcIn9V66iQAZGdFYS84NCBgjZ3qKNXm6rab0/I2aVlob+ciDXc5prI6fFuVeDJN3B/1T6VahtPhFRRDmEaOX4K2PPwYnv0zgL6lH8EKn/WVpAq485bTDO49R6dfoYpDpxUaUKzEAAF8lH9xdZBuqDg/hsB4NF0aGIA1epe+zdMHvpWg58z9FG5VDH8l+Iy8uM9fIAq4XVGD//XDui5kgGb7tZMLAxZuJoKUF04pNxb+O+WEVprL2XWe3tu1LyW6+y0di81cz/sFblIJgadh6znqd0/I9dnbGANx2azgKHzgAAAC9AZ4PdEf/AABNWGYkQIOf6AI7GAwa0XO0C3tR/o6uoq3vRy/eZTTXVBNd0jWsj5qPsIPMecpc6eNAkV9Mh8S9gb7Rvw9OBFkkz7Vf9+DjqdYzGWUlRZHbPn5zFDCJgLmAnYUCA9jial6WQmkybJMUP6dRnD5opr9aTGa+Xt6ydTSdYX8YN8KHavunuCt9R9KkvwQUziazHTPzMKODGun7ZWXZulHa/xrLyTOM9yRT5kwFCmpFPN1mJyiNKZNwAAAA2gGeEWpH/wAAHEzfDrtI+ABff1hP6F22CWI1TtvnHQJqYdSKMTcq2DiHRUOeTVf8BU5/8tsM8H0Ln7Xdf++76IPbpaQBAf9zYJ08zJZ4CJJJ3rPeO3J1I0jzM6UYJ0gl2gdnx54NO65VwdFsTUS4qcQOP3Pzf6yEJ4h3AEqXUJHrM/p1Rn+fHcGJffIxCe5ZZxlBWWTqxIITo5o0PeKJR9vO83qeJFJKAotr/CbW5EtCZG+e6GAgXiL/ZmGZKxa88LaHl8g8z60oP/PdScorrNJTrd5dmYop22r5AAABGUGaE0moQWiZTAj//IQAAAMB0fRQbtFodhUR66AI7GAyGNVPaGQl1I94+9rvAce2m1ApjKCSxqCRLVP0TKjAOn3q47OZsJX6wnUVs7HSwmVus1WBih5uyJqqjEbR/24kHjkRpfrR2QGxGFZe2SuKFWabnzxQ8DXQZg5IGtmz7IqhNpAAFiu1NPqNl71CUJIbkyK57UTrNRbjytoAuX7X4Ew0BbiVK8fWPIkzX4JFqH4Hv6b9wzcgNFBMu1HUhpcKmgs4c1po7G3bjL1jW/Zy18FpgxnWjIxN2sADzlAs+nmRCmPrn0XVbra/QBdCJoresQBSvv/EhdnRxF6q9/1uj9EdGEvxPV366u+va1SoOSHyFmUZD0pBSoPGAAAFS21vb3YAAABsbXZoZAAAAAAAAAAAAAAAAAAAA+gAAAQQAAEAAAEAAAAAAAAAAAAAAAABAAAAAAAAAAAAAAAAAAAAAQAAAAAAAAAAAAAAAAAAQAAAAAAAAAAAAAAAAAAAAAAAAAAAAAAAAAAAAAAAAAIAAAR1dHJhawAAAFx0a2hkAAAAAwAAAAAAAAAAAAAAAQAAAAAAAAQQAAAAAAAAAAAAAAAAAAAAAAABAAAAAAAAAAAAAAAAAAAAAQAAAAAAAAAAAAAAAAAAQAAAAAJYAAABkAAAAAAAJGVkdHMAAAAcZWxzdAAAAAAAAAABAAAEEAAAAgAAAQAAAAAD7W1kaWEAAAAgbWRoZAAAAAAAAAAAAAAAAAAAMgAAADQAVcQAAAAAAC1oZGxyAAAAAAAAAAB2aWRlAAAAAAAAAAAAAAAAVmlkZW9IYW5kbGVyAAAAA5htaW5mAAAAFHZtaGQAAAABAAAAAAAAAAAAAAAkZGluZgAAABxkcmVmAAAAAAAAAAEAAAAMdXJsIAAAAAEAAANYc3RibAAAAJhzdHNkAAAAAAAAAAEAAACIYXZjMQAAAAAAAAABAAAAAAAAAAAAAAAAAAAAAAJYAZAASAAAAEgAAAAAAAAAAQAAAAAAAAAAAAAAAAAAAAAAAAAAAAAAAAAAAAAAAAAAABj//wAAADJhdmNDAWQAH//hABlnZAAfrNlAmDPl4QAAAwABAAADAGQPGDGWAQAGaOvjyyLAAAAAGHN0dHMAAAAAAAAAAQAAADQAAAEAAAAAFHN0c3MAAAAAAAAAAQAAAAEAAAF4Y3R0cwAAAAAAAAAtAAAAAQAAAgAAAAABAAAEAAAAAAIAAAEAAAAAAQAABQAAAAABAAACAAAAAAEAAAAAAAAAAQAAAQAAAAABAAAFAAAAAAEAAAIAAAAAAQAAAAAAAAABAAABAAAAAAEAAAMAAAAAAQAAAQAAAAABAAAEAAAAAAIAAAEAAAAAAQAABAAAAAACAAABAAAAAAIAAAIAAAAAAQAAAwAAAAABAAABAAAAAAEAAAMAAAAAAQAAAQAAAAABAAAFAAAAAAEAAAIAAAAAAQAAAAAAAAABAAABAAAAAAIAAAIAAAAAAQAAAwAAAAABAAABAAAAAAEAAAIAAAAAAQAABAAAAAACAAABAAAAAAIAAAIAAAAAAQAAAwAAAAABAAABAAAAAAEAAAIAAAAAAQAAAwAAAAABAAABAAAAAAEAAAMAAAAAAQAAAQAAAAABAAAFAAAAAAEAAAIAAAAAAQAAAAAAAAABAAABAAAAAAEAAAIAAAAAHHN0c2MAAAAAAAAAAQAAAAEAAAA0AAAAAQAAAORzdHN6AAAAAAAAAAAAAAA0AAAKEwAAAYsAAABsAAAAZAAAASAAAAB2AAAAUgAAAF4AAAFmAAAApAAAAGsAAACQAAABLAAAAKkAAAFtAAAAqwAAAJUAAAFYAAAAmgAAAIUAAAEZAAAA8AAAAVAAAACPAAABPgAAAKIAAAGNAAAA8gAAAKgAAAC1AAABMgAAARQAAAEXAAAAigAAAP0AAAFbAAAA3gAAAMkAAAEMAAAA3gAAAQ4AAACPAAABHQAAAWwAAADRAAABQQAAALMAAAFqAAABPAAAAMEAAADeAAABHQAAABRzdGNvAAAAAAAAAAEAAAAwAAAAYnVkdGEAAABabWV0YQAAAAAAAAAhaGRscgAAAAAAAAAAbWRpcmFwcGwAAAAAAAAAAAAAAAAtaWxzdAAAACWpdG9vAAAAHWRhdGEAAAABAAAAAExhdmY1Ny44My4xMDA=\" type=\"video/mp4\" />\n",
              "             </video>"
            ],
            "text/plain": [
              "<IPython.core.display.HTML object>"
            ]
          },
          "metadata": {
            "tags": []
          }
        },
        {
          "output_type": "stream",
          "text": [
            "episode 9,  iteration 999 \n",
            "episode 19,  iteration 999 \n",
            "\n",
            "\n",
            "Hyperparameters Used is (batch_size=99, lr=0.0040,discount_factor=0.8549, optimizer = adam, capacity = 3318)\n"
          ],
          "name": "stdout"
        },
        {
          "output_type": "display_data",
          "data": {
            "text/html": [
              "<video alt=\"test\" autoplay \n",
              "                loop controls style=\"height: 400px;\">\n",
              "                <source src=\"data:video/mp4;base64,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\" type=\"video/mp4\" />\n",
              "             </video>"
            ],
            "text/plain": [
              "<IPython.core.display.HTML object>"
            ]
          },
          "metadata": {
            "tags": []
          }
        },
        {
          "output_type": "stream",
          "text": [
            "episode 9,  iteration 999 \n",
            "episode 19,  iteration 999 \n",
            "\n",
            "\n",
            "Hyperparameters Used is (batch_size=305, lr=0.0082,discount_factor=0.7770, optimizer = adam, capacity = 2320)\n"
          ],
          "name": "stdout"
        },
        {
          "output_type": "display_data",
          "data": {
            "text/html": [
              "<video alt=\"test\" autoplay \n",
              "                loop controls style=\"height: 400px;\">\n",
              "                <source src=\"data:video/mp4;base64,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\" type=\"video/mp4\" />\n",
              "             </video>"
            ],
            "text/plain": [
              "<IPython.core.display.HTML object>"
            ]
          },
          "metadata": {
            "tags": []
          }
        }
      ]
    }
  ]
}